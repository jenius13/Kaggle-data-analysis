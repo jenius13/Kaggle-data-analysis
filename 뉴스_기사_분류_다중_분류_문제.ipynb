{
  "nbformat": 4,
  "nbformat_minor": 0,
  "metadata": {
    "colab": {
      "name": "뉴스 기사 분류:다중 분류 문제",
      "provenance": [],
      "collapsed_sections": []
    },
    "kernelspec": {
      "name": "python3",
      "display_name": "Python 3"
    }
  },
  "cells": [
    {
      "cell_type": "markdown",
      "metadata": {
        "id": "sPKZ1J-ZT3Il",
        "colab_type": "text"
      },
      "source": [
        "# 로이터 데이터셋 로드하기"
      ]
    },
    {
      "cell_type": "code",
      "metadata": {
        "id": "O08WeNpHT2d3",
        "colab_type": "code",
        "outputId": "4521ccfd-6c7a-4eb8-e069-ba4b984e5045",
        "colab": {
          "base_uri": "https://localhost:8080/",
          "height": 53
        }
      },
      "source": [
        "# 케라스에 IMDB,MNIST와 같이 포함되어 있음\n",
        "\n",
        "from keras.datasets import reuters\n",
        "\n",
        "(train_data,train_labels),(test_data,test_labels)=reuters.load_data(num_words=10000)"
      ],
      "execution_count": 0,
      "outputs": [
        {
          "output_type": "stream",
          "text": [
            "Downloading data from https://s3.amazonaws.com/text-datasets/reuters.npz\n",
            "2113536/2110848 [==============================] - 1s 0us/step\n"
          ],
          "name": "stdout"
        }
      ]
    },
    {
      "cell_type": "markdown",
      "metadata": {
        "id": "sIMDCUfWUaur",
        "colab_type": "text"
      },
      "source": [
        "# 로이터 데이터셋을 텍스트로 디코딩하기"
      ]
    },
    {
      "cell_type": "code",
      "metadata": {
        "id": "od6yvmLSUYMV",
        "colab_type": "code",
        "outputId": "ee53120b-2feb-4c19-ea72-eb389976f571",
        "colab": {
          "base_uri": "https://localhost:8080/",
          "height": 53
        }
      },
      "source": [
        "word_index=reuters.get_word_index()\n",
        "reverse_word_index=dict([(value,key) for (key,value) in word_index.items()])\n",
        "decoded_newswire=''.join([reverse_word_index.get(i-3,'?') for i in train_data[0]])"
      ],
      "execution_count": 0,
      "outputs": [
        {
          "output_type": "stream",
          "text": [
            "Downloading data from https://s3.amazonaws.com/text-datasets/reuters_word_index.json\n",
            "557056/550378 [==============================] - 0s 1us/step\n"
          ],
          "name": "stdout"
        }
      ]
    },
    {
      "cell_type": "code",
      "metadata": {
        "id": "iVMQVCh-V9hD",
        "colab_type": "code",
        "outputId": "cf3b9c5d-3e6a-4d27-8a00-39137d052e2a",
        "colab": {
          "base_uri": "https://localhost:8080/",
          "height": 35
        }
      },
      "source": [
        "train_labels[10]"
      ],
      "execution_count": 0,
      "outputs": [
        {
          "output_type": "execute_result",
          "data": {
            "text/plain": [
              "3"
            ]
          },
          "metadata": {
            "tags": []
          },
          "execution_count": 6
        }
      ]
    },
    {
      "cell_type": "markdown",
      "metadata": {
        "id": "WF6ylqCsWKiC",
        "colab_type": "text"
      },
      "source": [
        "# 데이터 준비하기"
      ]
    },
    {
      "cell_type": "code",
      "metadata": {
        "id": "odGuoF1YWAU5",
        "colab_type": "code",
        "colab": {}
      },
      "source": [
        "import numpy as np\n",
        "\n",
        "def vectorize_sequences(sequences,dimension=10000):\n",
        "  results=np.zeros((len(sequences),dimension))\n",
        "  for i,sequence in enumerate(sequences):\n",
        "    results[i,sequence]=1.\n",
        "    return results\n",
        "\n",
        "x_train=vectorize_sequences(train_data)\n",
        "x_test=vectorize_sequences(test_data)"
      ],
      "execution_count": 0,
      "outputs": []
    },
    {
      "cell_type": "markdown",
      "metadata": {
        "id": "l3qL3Y6WYNBw",
        "colab_type": "text"
      },
      "source": [
        "# 레이블 인코딩"
      ]
    },
    {
      "cell_type": "code",
      "metadata": {
        "id": "axxPjDFmWzfE",
        "colab_type": "code",
        "colab": {}
      },
      "source": [
        "from keras.utils.np_utils import to_categorical\n",
        "\n",
        "one_hot_train_labels=to_categorical(train_labels)\n",
        "one_hot_test_labels=to_categorical(test_labels)"
      ],
      "execution_count": 0,
      "outputs": []
    },
    {
      "cell_type": "markdown",
      "metadata": {
        "id": "QlVQO3DLcDkn",
        "colab_type": "text"
      },
      "source": [
        "\n",
        "# 모델 정의하기"
      ]
    },
    {
      "cell_type": "code",
      "metadata": {
        "id": "Evbnbyx8cCXn",
        "colab_type": "code",
        "colab": {}
      },
      "source": [
        "from keras import models\n",
        "from keras import layers\n",
        "\n",
        "model=models.Sequential()\n",
        "model.add(layers.Dense(64,activation='relu',input_shape=(10000,)))\n",
        "model.add(layers.Dense(64,activation='relu'))\n",
        "model.add(layers.Dense(46,activation='softmax'))"
      ],
      "execution_count": 0,
      "outputs": []
    },
    {
      "cell_type": "markdown",
      "metadata": {
        "id": "W5PcRb81chc_",
        "colab_type": "text"
      },
      "source": [
        "# 모델 컴파일 하기"
      ]
    },
    {
      "cell_type": "code",
      "metadata": {
        "id": "HXVyq_uZccqS",
        "colab_type": "code",
        "colab": {}
      },
      "source": [
        "model.compile(optimizer='rmsprop',loss='binary_crossentropy',metrics=['acc'])"
      ],
      "execution_count": 0,
      "outputs": []
    },
    {
      "cell_type": "markdown",
      "metadata": {
        "id": "eJnwU8bGcspu",
        "colab_type": "text"
      },
      "source": [
        "# 훈련 검증하기"
      ]
    },
    {
      "cell_type": "code",
      "metadata": {
        "id": "AQBVib4ucrKN",
        "colab_type": "code",
        "colab": {}
      },
      "source": [
        "x_val=x_train[:1000]\n",
        "partial_x_train=x_train[1000:]\n",
        "y_val=one_hot_train_labels[:1000]\n",
        "partial_y_train=one_hot_train_labels[1000:]"
      ],
      "execution_count": 0,
      "outputs": []
    },
    {
      "cell_type": "markdown",
      "metadata": {
        "id": "dTUsm_hydDce",
        "colab_type": "text"
      },
      "source": [
        "# 모델 훈련하기"
      ]
    },
    {
      "cell_type": "code",
      "metadata": {
        "id": "lasyNuAqdBmP",
        "colab_type": "code",
        "outputId": "bc8f1cf1-60f5-4c1b-aa62-a929723e47d8",
        "colab": {
          "base_uri": "https://localhost:8080/",
          "height": 1000
        }
      },
      "source": [
        "history=model.fit(partial_x_train,partial_y_train,epochs=20,batch_size=512,validation_data=(x_val,y_val))"
      ],
      "execution_count": 0,
      "outputs": [
        {
          "output_type": "stream",
          "text": [
            "WARNING:tensorflow:From /usr/local/lib/python3.6/dist-packages/keras/backend/tensorflow_backend.py:1033: The name tf.assign_add is deprecated. Please use tf.compat.v1.assign_add instead.\n",
            "\n",
            "WARNING:tensorflow:From /usr/local/lib/python3.6/dist-packages/keras/backend/tensorflow_backend.py:1020: The name tf.assign is deprecated. Please use tf.compat.v1.assign instead.\n",
            "\n",
            "WARNING:tensorflow:From /usr/local/lib/python3.6/dist-packages/keras/backend/tensorflow_backend.py:3005: The name tf.Session is deprecated. Please use tf.compat.v1.Session instead.\n",
            "\n",
            "Train on 7982 samples, validate on 1000 samples\n",
            "Epoch 1/20\n",
            "WARNING:tensorflow:From /usr/local/lib/python3.6/dist-packages/keras/backend/tensorflow_backend.py:190: The name tf.get_default_session is deprecated. Please use tf.compat.v1.get_default_session instead.\n",
            "\n",
            "WARNING:tensorflow:From /usr/local/lib/python3.6/dist-packages/keras/backend/tensorflow_backend.py:197: The name tf.ConfigProto is deprecated. Please use tf.compat.v1.ConfigProto instead.\n",
            "\n",
            "WARNING:tensorflow:From /usr/local/lib/python3.6/dist-packages/keras/backend/tensorflow_backend.py:207: The name tf.global_variables is deprecated. Please use tf.compat.v1.global_variables instead.\n",
            "\n",
            "WARNING:tensorflow:From /usr/local/lib/python3.6/dist-packages/keras/backend/tensorflow_backend.py:216: The name tf.is_variable_initialized is deprecated. Please use tf.compat.v1.is_variable_initialized instead.\n",
            "\n",
            "WARNING:tensorflow:From /usr/local/lib/python3.6/dist-packages/keras/backend/tensorflow_backend.py:223: The name tf.variables_initializer is deprecated. Please use tf.compat.v1.variables_initializer instead.\n",
            "\n",
            "7982/7982 [==============================] - 2s 206us/step - loss: 0.1044 - acc: 0.9783 - val_loss: 0.1041 - val_acc: 0.9783\n",
            "Epoch 2/20\n",
            "7982/7982 [==============================] - 1s 105us/step - loss: 0.1038 - acc: 0.9783 - val_loss: 0.1036 - val_acc: 0.9783\n",
            "Epoch 3/20\n",
            "7982/7982 [==============================] - 1s 106us/step - loss: 0.1034 - acc: 0.9783 - val_loss: 0.1031 - val_acc: 0.9783\n",
            "Epoch 4/20\n",
            "7982/7982 [==============================] - 1s 108us/step - loss: 0.1029 - acc: 0.9783 - val_loss: 0.1027 - val_acc: 0.9783\n",
            "Epoch 5/20\n",
            "7982/7982 [==============================] - 1s 106us/step - loss: 0.1025 - acc: 0.9783 - val_loss: 0.1023 - val_acc: 0.9783\n",
            "Epoch 6/20\n",
            "7982/7982 [==============================] - 1s 106us/step - loss: 0.1021 - acc: 0.9783 - val_loss: 0.1018 - val_acc: 0.9783\n",
            "Epoch 7/20\n",
            "7982/7982 [==============================] - 1s 110us/step - loss: 0.1016 - acc: 0.9783 - val_loss: 0.1014 - val_acc: 0.9783\n",
            "Epoch 8/20\n",
            "7982/7982 [==============================] - 1s 113us/step - loss: 0.1012 - acc: 0.9783 - val_loss: 0.1010 - val_acc: 0.9783\n",
            "Epoch 9/20\n",
            "7982/7982 [==============================] - 1s 109us/step - loss: 0.1008 - acc: 0.9783 - val_loss: 0.1006 - val_acc: 0.9783\n",
            "Epoch 10/20\n",
            "7982/7982 [==============================] - 1s 108us/step - loss: 0.1003 - acc: 0.9783 - val_loss: 0.1001 - val_acc: 0.9783\n",
            "Epoch 11/20\n",
            "7982/7982 [==============================] - 1s 110us/step - loss: 0.0999 - acc: 0.9783 - val_loss: 0.0997 - val_acc: 0.9783\n",
            "Epoch 12/20\n",
            "7982/7982 [==============================] - 1s 106us/step - loss: 0.0995 - acc: 0.9783 - val_loss: 0.0993 - val_acc: 0.9783\n",
            "Epoch 13/20\n",
            "7982/7982 [==============================] - 1s 106us/step - loss: 0.0991 - acc: 0.9783 - val_loss: 0.0989 - val_acc: 0.9783\n",
            "Epoch 14/20\n",
            "7982/7982 [==============================] - 1s 107us/step - loss: 0.0987 - acc: 0.9783 - val_loss: 0.0985 - val_acc: 0.9783\n",
            "Epoch 15/20\n",
            "7982/7982 [==============================] - 1s 107us/step - loss: 0.0983 - acc: 0.9783 - val_loss: 0.0981 - val_acc: 0.9783\n",
            "Epoch 16/20\n",
            "7982/7982 [==============================] - 1s 108us/step - loss: 0.0979 - acc: 0.9783 - val_loss: 0.0977 - val_acc: 0.9783\n",
            "Epoch 17/20\n",
            "7982/7982 [==============================] - 1s 109us/step - loss: 0.0975 - acc: 0.9783 - val_loss: 0.0973 - val_acc: 0.9783\n",
            "Epoch 18/20\n",
            "7982/7982 [==============================] - 1s 109us/step - loss: 0.0971 - acc: 0.9783 - val_loss: 0.0969 - val_acc: 0.9783\n",
            "Epoch 19/20\n",
            "7982/7982 [==============================] - 1s 107us/step - loss: 0.0967 - acc: 0.9783 - val_loss: 0.0965 - val_acc: 0.9783\n",
            "Epoch 20/20\n",
            "7982/7982 [==============================] - 1s 110us/step - loss: 0.0963 - acc: 0.9783 - val_loss: 0.0961 - val_acc: 0.9783\n"
          ],
          "name": "stdout"
        }
      ]
    },
    {
      "cell_type": "markdown",
      "metadata": {
        "id": "LZp4RdRZdUhk",
        "colab_type": "text"
      },
      "source": [
        "# 훈련과 검증 손실 그리기"
      ]
    },
    {
      "cell_type": "code",
      "metadata": {
        "id": "6Li6lSoOdOR3",
        "colab_type": "code",
        "outputId": "3ef8f4d4-7a84-427c-8a61-4cfcb667e1b3",
        "colab": {
          "base_uri": "https://localhost:8080/",
          "height": 281
        }
      },
      "source": [
        "import matplotlib.pyplot as plt\n",
        "\n",
        "loss=history.history['loss']\n",
        "val_loss=history.history['val_loss']\n",
        "\n",
        "epochs=range(1,len(loss)+1)\n",
        "\n",
        "plt.plot(epochs,loss,'bo',label='Training loss')\n",
        "plt.plot(epochs,val_loss,'b',label='Validation loss')\n",
        "plt.title('Training and Validation loss')\n",
        "plt.legend()\n",
        "plt.show()"
      ],
      "execution_count": 0,
      "outputs": [
        {
          "output_type": "display_data",
          "data": {
            "image/png": "[encoded data removed]",
            "text/plain": [
              "<Figure size 432x288 with 1 Axes>"
            ]
          },
          "metadata": {
            "tags": []
          }
        }
      ]
    },
    {
      "cell_type": "markdown",
      "metadata": {
        "id": "DoUhK62cfWJk",
        "colab_type": "text"
      },
      "source": [
        ""
      ]
    },
    {
      "cell_type": "code",
      "metadata": {
        "id": "92j7GcnXeMX_",
        "colab_type": "code",
        "colab": {}
      },
      "source": [
        ""
      ],
      "execution_count": 0,
      "outputs": []
    }
  ]
}