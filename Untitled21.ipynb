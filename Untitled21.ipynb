{
  "nbformat": 4,
  "nbformat_minor": 0,
  "metadata": {
    "colab": {
      "name": "Untitled21.ipynb",
      "provenance": [],
      "authorship_tag": "ABX9TyNkkwx5eH+R0TKhuZA5IFx9",
      "include_colab_link": true
    },
    "kernelspec": {
      "name": "python3",
      "display_name": "Python 3"
    }
  },
  "cells": [
    {
      "cell_type": "markdown",
      "metadata": {
        "id": "view-in-github",
        "colab_type": "text"
      },
      "source": [
        "<a href=\"https://colab.research.google.com/github/jenius13/Kaggle-data-analysis/blob/master/Untitled21.ipynb\" target=\"_parent\"><img src=\"https://colab.research.google.com/assets/colab-badge.svg\" alt=\"Open In Colab\"/></a>"
      ]
    },
    {
      "cell_type": "code",
      "metadata": {
        "id": "nf7dK3Km6zbg",
        "colab_type": "code",
        "colab": {}
      },
      "source": [
        "import pandas as pd\n",
        "import numpy as np\n",
        "import matplotlib.pyplot as plt\n",
        "from keras.models import Sequential\n",
        "from keras.layers import LSTM, Dropout, Dense, Activation\n",
        "from keras.callbacks import TensorBoard, ModelCheckpoint, ReduceLROnPlateau\n",
        "import datetime"
      ],
      "execution_count": 0,
      "outputs": []
    },
    {
      "cell_type": "code",
      "metadata": {
        "id": "5_tmmB-q7I7r",
        "colab_type": "code",
        "colab": {
          "base_uri": "https://localhost:8080/",
          "height": 204
        },
        "outputId": "3300d3a4-d5b0-48ff-fa12-580bacb41ed6"
      },
      "source": [
        "data = pd.read_csv('/content/eth1.csv')\n",
        "data.head()"
      ],
      "execution_count": 17,
      "outputs": [
        {
          "output_type": "execute_result",
          "data": {
            "text/html": [
              "<div>\n",
              "<style scoped>\n",
              "    .dataframe tbody tr th:only-of-type {\n",
              "        vertical-align: middle;\n",
              "    }\n",
              "\n",
              "    .dataframe tbody tr th {\n",
              "        vertical-align: top;\n",
              "    }\n",
              "\n",
              "    .dataframe thead th {\n",
              "        text-align: right;\n",
              "    }\n",
              "</style>\n",
              "<table border=\"1\" class=\"dataframe\">\n",
              "  <thead>\n",
              "    <tr style=\"text-align: right;\">\n",
              "      <th></th>\n",
              "      <th>Date</th>\n",
              "      <th>Open*</th>\n",
              "      <th>High</th>\n",
              "      <th>Low</th>\n",
              "      <th>Close**</th>\n",
              "      <th>Volume</th>\n",
              "      <th>Market Cap</th>\n",
              "    </tr>\n",
              "  </thead>\n",
              "  <tbody>\n",
              "    <tr>\n",
              "      <th>0</th>\n",
              "      <td>24-Feb-19</td>\n",
              "      <td>158.90</td>\n",
              "      <td>165.55</td>\n",
              "      <td>135.85</td>\n",
              "      <td>135.85</td>\n",
              "      <td>5,957,715,043</td>\n",
              "      <td>14,263,873,721</td>\n",
              "    </tr>\n",
              "    <tr>\n",
              "      <th>1</th>\n",
              "      <td>25-Feb-19</td>\n",
              "      <td>135.50</td>\n",
              "      <td>142.53</td>\n",
              "      <td>135.48</td>\n",
              "      <td>139.82</td>\n",
              "      <td>4,914,392,068</td>\n",
              "      <td>14,682,597,926</td>\n",
              "    </tr>\n",
              "    <tr>\n",
              "      <th>2</th>\n",
              "      <td>26-Feb-19</td>\n",
              "      <td>139.65</td>\n",
              "      <td>139.98</td>\n",
              "      <td>136.58</td>\n",
              "      <td>138.09</td>\n",
              "      <td>3,791,292,839</td>\n",
              "      <td>14,502,464,167</td>\n",
              "    </tr>\n",
              "    <tr>\n",
              "      <th>3</th>\n",
              "      <td>27-Feb-19</td>\n",
              "      <td>138.03</td>\n",
              "      <td>141.34</td>\n",
              "      <td>131.60</td>\n",
              "      <td>136.13</td>\n",
              "      <td>4,469,776,860</td>\n",
              "      <td>14,298,070,644</td>\n",
              "    </tr>\n",
              "    <tr>\n",
              "      <th>4</th>\n",
              "      <td>28-Feb-19</td>\n",
              "      <td>136.28</td>\n",
              "      <td>138.85</td>\n",
              "      <td>135.66</td>\n",
              "      <td>136.75</td>\n",
              "      <td>4,535,438,953</td>\n",
              "      <td>14,365,118,213</td>\n",
              "    </tr>\n",
              "  </tbody>\n",
              "</table>\n",
              "</div>"
            ],
            "text/plain": [
              "        Date   Open*    High     Low  Close**         Volume      Market Cap\n",
              "0  24-Feb-19  158.90  165.55  135.85   135.85  5,957,715,043  14,263,873,721\n",
              "1  25-Feb-19  135.50  142.53  135.48   139.82  4,914,392,068  14,682,597,926\n",
              "2  26-Feb-19  139.65  139.98  136.58   138.09  3,791,292,839  14,502,464,167\n",
              "3  27-Feb-19  138.03  141.34  131.60   136.13  4,469,776,860  14,298,070,644\n",
              "4  28-Feb-19  136.28  138.85  135.66   136.75  4,535,438,953  14,365,118,213"
            ]
          },
          "metadata": {
            "tags": []
          },
          "execution_count": 17
        }
      ]
    },
    {
      "cell_type": "code",
      "metadata": {
        "id": "MsFxOCNV7XRU",
        "colab_type": "code",
        "colab": {}
      },
      "source": [
        "\n",
        "high_prices = data['High'].values\n",
        "low_prices = data['Low'].values\n",
        "mid_prices = (high_prices + low_prices) / 2"
      ],
      "execution_count": 0,
      "outputs": []
    },
    {
      "cell_type": "code",
      "metadata": {
        "id": "eU4fitBJ7foo",
        "colab_type": "code",
        "colab": {}
      },
      "source": [
        "seq_len = 50\n",
        "sequence_length = seq_len + 1\n",
        "\n",
        "result = []\n",
        "for index in range(len(mid_prices) - sequence_length):\n",
        "    result.append(mid_prices[index: index + sequence_length])"
      ],
      "execution_count": 0,
      "outputs": []
    },
    {
      "cell_type": "code",
      "metadata": {
        "id": "gQIBEjnk7hTG",
        "colab_type": "code",
        "colab": {
          "base_uri": "https://localhost:8080/",
          "height": 35
        },
        "outputId": "541da7e4-afd6-4279-d238-548d6d9a8e13"
      },
      "source": [
        "def normalize_windows(data):\n",
        "    normalized_data = []\n",
        "    for window in data:\n",
        "        normalized_window = [((float(p) / float(window[0])) - 1) for p in window]\n",
        "        normalized_data.append(normalized_window)\n",
        "    return np.array(normalized_data)\n",
        "\n",
        "result = normalize_windows(result)\n",
        "\n",
        "# split train and test data\n",
        "row = int(round(result.shape[0] * 0.9))\n",
        "train = result[:row, :]\n",
        "np.random.shuffle(train)\n",
        "\n",
        "x_train = train[:, :-1]\n",
        "x_train = np.reshape(x_train, (x_train.shape[0], x_train.shape[1], 1))\n",
        "y_train = train[:, -1]\n",
        "\n",
        "x_test = result[row:, :-1]\n",
        "x_test = np.reshape(x_test, (x_test.shape[0], x_test.shape[1], 1))\n",
        "y_test = result[row:, -1]\n",
        "\n",
        "x_train.shape, x_test.shape"
      ],
      "execution_count": 20,
      "outputs": [
        {
          "output_type": "execute_result",
          "data": {
            "text/plain": [
              "((283, 50, 1), (31, 50, 1))"
            ]
          },
          "metadata": {
            "tags": []
          },
          "execution_count": 20
        }
      ]
    },
    {
      "cell_type": "code",
      "metadata": {
        "id": "dvC8UMZx7kwk",
        "colab_type": "code",
        "colab": {
          "base_uri": "https://localhost:8080/",
          "height": 269
        },
        "outputId": "f294cef0-4ea2-4847-c21e-48098a538aef"
      },
      "source": [
        "model = Sequential()\n",
        "\n",
        "model.add(LSTM(50, return_sequences=True, input_shape=(50, 1)))\n",
        "\n",
        "model.add(LSTM(64, return_sequences=False))\n",
        "\n",
        "model.add(Dense(1, activation='linear'))\n",
        "\n",
        "model.compile(loss='mse', optimizer='rmsprop')\n",
        "\n",
        "model.summary()"
      ],
      "execution_count": 21,
      "outputs": [
        {
          "output_type": "stream",
          "text": [
            "Model: \"sequential_2\"\n",
            "_________________________________________________________________\n",
            "Layer (type)                 Output Shape              Param #   \n",
            "=================================================================\n",
            "lstm_3 (LSTM)                (None, 50, 50)            10400     \n",
            "_________________________________________________________________\n",
            "lstm_4 (LSTM)                (None, 64)                29440     \n",
            "_________________________________________________________________\n",
            "dense_2 (Dense)              (None, 1)                 65        \n",
            "=================================================================\n",
            "Total params: 39,905\n",
            "Trainable params: 39,905\n",
            "Non-trainable params: 0\n",
            "_________________________________________________________________\n"
          ],
          "name": "stdout"
        }
      ]
    },
    {
      "cell_type": "code",
      "metadata": {
        "id": "iEYyYtYn7mX6",
        "colab_type": "code",
        "colab": {
          "base_uri": "https://localhost:8080/",
          "height": 773
        },
        "outputId": "ad4dfc5d-4dd3-458c-c8a8-c25dde94f569"
      },
      "source": [
        "start_time = datetime.datetime.now().strftime('%Y_%m_%d_%H_%M_%S')\n",
        "\n",
        "model.fit(x_train, y_train,\n",
        "    validation_data=(x_test, y_test),\n",
        "    batch_size=10,\n",
        "    epochs=20\n",
        ")"
      ],
      "execution_count": 22,
      "outputs": [
        {
          "output_type": "stream",
          "text": [
            "Train on 283 samples, validate on 31 samples\n",
            "Epoch 1/20\n",
            "283/283 [==============================] - 4s 13ms/step - loss: 0.0191 - val_loss: 0.0249\n",
            "Epoch 2/20\n",
            "283/283 [==============================] - 2s 7ms/step - loss: 0.0114 - val_loss: 0.0235\n",
            "Epoch 3/20\n",
            "283/283 [==============================] - 2s 7ms/step - loss: 0.0080 - val_loss: 0.0115\n",
            "Epoch 4/20\n",
            "283/283 [==============================] - 2s 7ms/step - loss: 0.0065 - val_loss: 0.0127\n",
            "Epoch 5/20\n",
            "283/283 [==============================] - 2s 8ms/step - loss: 0.0058 - val_loss: 0.0098\n",
            "Epoch 6/20\n",
            "283/283 [==============================] - 2s 7ms/step - loss: 0.0054 - val_loss: 0.0256\n",
            "Epoch 7/20\n",
            "283/283 [==============================] - 2s 8ms/step - loss: 0.0044 - val_loss: 0.0070\n",
            "Epoch 8/20\n",
            "283/283 [==============================] - 2s 7ms/step - loss: 0.0038 - val_loss: 0.0097\n",
            "Epoch 9/20\n",
            "283/283 [==============================] - 2s 8ms/step - loss: 0.0044 - val_loss: 0.0503\n",
            "Epoch 10/20\n",
            "283/283 [==============================] - 2s 7ms/step - loss: 0.0044 - val_loss: 0.0060\n",
            "Epoch 11/20\n",
            "283/283 [==============================] - 2s 7ms/step - loss: 0.0039 - val_loss: 0.0063\n",
            "Epoch 12/20\n",
            "283/283 [==============================] - 2s 7ms/step - loss: 0.0033 - val_loss: 0.0057\n",
            "Epoch 13/20\n",
            "283/283 [==============================] - 2s 8ms/step - loss: 0.0030 - val_loss: 0.0097\n",
            "Epoch 14/20\n",
            "283/283 [==============================] - 2s 8ms/step - loss: 0.0029 - val_loss: 0.0062\n",
            "Epoch 15/20\n",
            "283/283 [==============================] - 2s 7ms/step - loss: 0.0026 - val_loss: 0.0076\n",
            "Epoch 16/20\n",
            "283/283 [==============================] - 2s 7ms/step - loss: 0.0028 - val_loss: 0.0063\n",
            "Epoch 17/20\n",
            "283/283 [==============================] - 2s 7ms/step - loss: 0.0023 - val_loss: 0.0071\n",
            "Epoch 18/20\n",
            "283/283 [==============================] - 2s 7ms/step - loss: 0.0026 - val_loss: 0.0050\n",
            "Epoch 19/20\n",
            "283/283 [==============================] - 2s 7ms/step - loss: 0.0025 - val_loss: 0.0055\n",
            "Epoch 20/20\n",
            "283/283 [==============================] - 2s 8ms/step - loss: 0.0025 - val_loss: 0.0049\n"
          ],
          "name": "stdout"
        },
        {
          "output_type": "execute_result",
          "data": {
            "text/plain": [
              "<keras.callbacks.History at 0x7f45d87b8160>"
            ]
          },
          "metadata": {
            "tags": []
          },
          "execution_count": 22
        }
      ]
    },
    {
      "cell_type": "code",
      "metadata": {
        "id": "_rsq4r3I7qvg",
        "colab_type": "code",
        "colab": {
          "base_uri": "https://localhost:8080/",
          "height": 592
        },
        "outputId": "25cad40c-56fa-4b55-efde-a5bd43509e0c"
      },
      "source": [
        "pred = model.predict(x_test)\n",
        "\n",
        "fig = plt.figure(facecolor='white', figsize=(20, 10))\n",
        "ax = fig.add_subplot(111)\n",
        "ax.plot(y_test, label='True')\n",
        "ax.plot(pred, label='Prediction')\n",
        "ax.legend()\n",
        "plt.show()"
      ],
      "execution_count": 23,
      "outputs": [
        {
          "output_type": "display_data",
          "data": {
            "image/png": "[encoded data removed]",
            "text/plain": [
              "<Figure size 1440x720 with 1 Axes>"
            ]
          },
          "metadata": {
            "tags": []
          }
        }
      ]
    },
    {
      "cell_type": "code",
      "metadata": {
        "id": "1XidDNHo8Kw6",
        "colab_type": "code",
        "colab": {}
      },
      "source": [
        ""
      ],
      "execution_count": 0,
      "outputs": []
    }
  ]
}