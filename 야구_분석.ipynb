{
  "nbformat": 4,
  "nbformat_minor": 0,
  "metadata": {
    "colab": {
      "name": "야구 분석",
      "provenance": [],
      "authorship_tag": "ABX9TyNXDN0K6WDdWUx7rgiLSab9",
      "include_colab_link": true
    },
    "kernelspec": {
      "name": "python3",
      "display_name": "Python 3"
    }
  },
  "cells": [
    {
      "cell_type": "markdown",
      "metadata": {
        "id": "view-in-github",
        "colab_type": "text"
      },
      "source": [
        "<a href=\"https://colab.research.google.com/github/jenius13/Kaggle-data-analysis/blob/master/%EC%95%BC%EA%B5%AC_%EB%B6%84%EC%84%9D.ipynb\" target=\"_parent\"><img src=\"https://colab.research.google.com/assets/colab-badge.svg\" alt=\"Open In Colab\"/></a>"
      ]
    },
    {
      "cell_type": "code",
      "metadata": {
        "id": "uoYwoHvFe9qQ",
        "colab_type": "code",
        "colab": {}
      },
      "source": [
        "# 데이터 분석 모듈\n",
        "import pandas as pd\n",
        "import numpy as np\n",
        "import matplotlib.pyplot as plt\n",
        "import seaborn as sns\n",
        "import time\n",
        "from datetime import datetime"
      ],
      "execution_count": 0,
      "outputs": []
    },
    {
      "cell_type": "code",
      "metadata": {
        "id": "00NOlMfYgvw7",
        "colab_type": "code",
        "colab": {}
      },
      "source": [
        "result = pd.read_csv('/content/statiz_origin.csv')"
      ],
      "execution_count": 0,
      "outputs": []
    },
    {
      "cell_type": "code",
      "metadata": {
        "id": "CANAg9bmhmA4",
        "colab_type": "code",
        "outputId": "d529f8eb-de13-43ff-9cae-4b543555fe72",
        "colab": {
          "base_uri": "https://localhost:8080/",
          "height": 652
        }
      },
      "source": [
        "result.info()"
      ],
      "execution_count": 3,
      "outputs": [
        {
          "output_type": "stream",
          "text": [
            "<class 'pandas.core.frame.DataFrame'>\n",
            "RangeIndex: 8557 entries, 0 to 8556\n",
            "Data columns (total 29 columns):\n",
            "Unnamed: 0    8557 non-null int64\n",
            "선수            8557 non-null object\n",
            "G             8557 non-null int64\n",
            "타석            8557 non-null int64\n",
            "타수            8557 non-null int64\n",
            "득점            8557 non-null int64\n",
            "안타            8557 non-null int64\n",
            "2타            8557 non-null int64\n",
            "3타            8557 non-null int64\n",
            "홈런            8557 non-null int64\n",
            "루타            8557 non-null int64\n",
            "타점            8557 non-null int64\n",
            "도루            8557 non-null int64\n",
            "도실            8557 non-null int64\n",
            "볼넷            8557 non-null int64\n",
            "사구            8557 non-null int64\n",
            "고4            8557 non-null int64\n",
            "삼진            8557 non-null int64\n",
            "병살            8557 non-null int64\n",
            "희타            8557 non-null int64\n",
            "희비            8557 non-null int64\n",
            "타율            6557 non-null float64\n",
            "출루            6957 non-null float64\n",
            "장타            6557 non-null float64\n",
            "OPS           6557 non-null float64\n",
            "wOBA          6957 non-null float64\n",
            "wRC+          6457 non-null float64\n",
            "WAR+          8557 non-null float64\n",
            "생일            8557 non-null object\n",
            "dtypes: float64(7), int64(20), object(2)\n",
            "memory usage: 1.9+ MB\n"
          ],
          "name": "stdout"
        }
      ]
    },
    {
      "cell_type": "code",
      "metadata": {
        "id": "4fbAYddnhn4U",
        "colab_type": "code",
        "outputId": "b618bb88-8310-4f6e-bf97-b4d8c29c7db5",
        "colab": {
          "base_uri": "https://localhost:8080/",
          "height": 395
        }
      },
      "source": [
        "result.head()"
      ],
      "execution_count": 4,
      "outputs": [
        {
          "output_type": "execute_result",
          "data": {
            "text/html": [
              "<div>\n",
              "<style scoped>\n",
              "    .dataframe tbody tr th:only-of-type {\n",
              "        vertical-align: middle;\n",
              "    }\n",
              "\n",
              "    .dataframe tbody tr th {\n",
              "        vertical-align: top;\n",
              "    }\n",
              "\n",
              "    .dataframe thead th {\n",
              "        text-align: right;\n",
              "    }\n",
              "</style>\n",
              "<table border=\"1\" class=\"dataframe\">\n",
              "  <thead>\n",
              "    <tr style=\"text-align: right;\">\n",
              "      <th></th>\n",
              "      <th>Unnamed: 0</th>\n",
              "      <th>선수</th>\n",
              "      <th>G</th>\n",
              "      <th>타석</th>\n",
              "      <th>타수</th>\n",
              "      <th>득점</th>\n",
              "      <th>안타</th>\n",
              "      <th>2타</th>\n",
              "      <th>3타</th>\n",
              "      <th>홈런</th>\n",
              "      <th>루타</th>\n",
              "      <th>타점</th>\n",
              "      <th>도루</th>\n",
              "      <th>도실</th>\n",
              "      <th>볼넷</th>\n",
              "      <th>사구</th>\n",
              "      <th>고4</th>\n",
              "      <th>삼진</th>\n",
              "      <th>병살</th>\n",
              "      <th>희타</th>\n",
              "      <th>희비</th>\n",
              "      <th>타율</th>\n",
              "      <th>출루</th>\n",
              "      <th>장타</th>\n",
              "      <th>OPS</th>\n",
              "      <th>wOBA</th>\n",
              "      <th>wRC+</th>\n",
              "      <th>WAR+</th>\n",
              "      <th>생일</th>\n",
              "    </tr>\n",
              "  </thead>\n",
              "  <tbody>\n",
              "    <tr>\n",
              "      <th>0</th>\n",
              "      <td>0</td>\n",
              "      <td>이종범94해SS</td>\n",
              "      <td>124</td>\n",
              "      <td>561</td>\n",
              "      <td>499</td>\n",
              "      <td>113</td>\n",
              "      <td>196</td>\n",
              "      <td>27</td>\n",
              "      <td>5</td>\n",
              "      <td>19</td>\n",
              "      <td>290</td>\n",
              "      <td>77</td>\n",
              "      <td>84</td>\n",
              "      <td>15</td>\n",
              "      <td>51</td>\n",
              "      <td>6</td>\n",
              "      <td>14</td>\n",
              "      <td>31</td>\n",
              "      <td>2</td>\n",
              "      <td>1</td>\n",
              "      <td>4</td>\n",
              "      <td>0.393</td>\n",
              "      <td>0.452</td>\n",
              "      <td>0.581</td>\n",
              "      <td>1.033</td>\n",
              "      <td>0.462</td>\n",
              "      <td>198.3</td>\n",
              "      <td>11.77</td>\n",
              "      <td>1970-08-15</td>\n",
              "    </tr>\n",
              "    <tr>\n",
              "      <th>1</th>\n",
              "      <td>1</td>\n",
              "      <td>테임즈15N1B</td>\n",
              "      <td>142</td>\n",
              "      <td>595</td>\n",
              "      <td>472</td>\n",
              "      <td>130</td>\n",
              "      <td>180</td>\n",
              "      <td>42</td>\n",
              "      <td>5</td>\n",
              "      <td>47</td>\n",
              "      <td>373</td>\n",
              "      <td>140</td>\n",
              "      <td>40</td>\n",
              "      <td>8</td>\n",
              "      <td>103</td>\n",
              "      <td>13</td>\n",
              "      <td>11</td>\n",
              "      <td>91</td>\n",
              "      <td>7</td>\n",
              "      <td>0</td>\n",
              "      <td>7</td>\n",
              "      <td>0.381</td>\n",
              "      <td>0.498</td>\n",
              "      <td>0.790</td>\n",
              "      <td>1.288</td>\n",
              "      <td>0.530</td>\n",
              "      <td>222.3</td>\n",
              "      <td>10.71</td>\n",
              "      <td>1986-11-10</td>\n",
              "    </tr>\n",
              "    <tr>\n",
              "      <th>2</th>\n",
              "      <td>2</td>\n",
              "      <td>심정수03현RF</td>\n",
              "      <td>133</td>\n",
              "      <td>601</td>\n",
              "      <td>460</td>\n",
              "      <td>110</td>\n",
              "      <td>154</td>\n",
              "      <td>16</td>\n",
              "      <td>1</td>\n",
              "      <td>53</td>\n",
              "      <td>331</td>\n",
              "      <td>142</td>\n",
              "      <td>6</td>\n",
              "      <td>2</td>\n",
              "      <td>124</td>\n",
              "      <td>9</td>\n",
              "      <td>17</td>\n",
              "      <td>63</td>\n",
              "      <td>14</td>\n",
              "      <td>0</td>\n",
              "      <td>8</td>\n",
              "      <td>0.335</td>\n",
              "      <td>0.478</td>\n",
              "      <td>0.720</td>\n",
              "      <td>1.197</td>\n",
              "      <td>0.498</td>\n",
              "      <td>210.7</td>\n",
              "      <td>10.19</td>\n",
              "      <td>1975-05-05</td>\n",
              "    </tr>\n",
              "    <tr>\n",
              "      <th>3</th>\n",
              "      <td>3</td>\n",
              "      <td>이종범97해SS</td>\n",
              "      <td>125</td>\n",
              "      <td>577</td>\n",
              "      <td>484</td>\n",
              "      <td>112</td>\n",
              "      <td>157</td>\n",
              "      <td>28</td>\n",
              "      <td>3</td>\n",
              "      <td>30</td>\n",
              "      <td>281</td>\n",
              "      <td>74</td>\n",
              "      <td>64</td>\n",
              "      <td>15</td>\n",
              "      <td>87</td>\n",
              "      <td>3</td>\n",
              "      <td>30</td>\n",
              "      <td>49</td>\n",
              "      <td>9</td>\n",
              "      <td>0</td>\n",
              "      <td>3</td>\n",
              "      <td>0.324</td>\n",
              "      <td>0.428</td>\n",
              "      <td>0.581</td>\n",
              "      <td>1.009</td>\n",
              "      <td>0.431</td>\n",
              "      <td>173.2</td>\n",
              "      <td>9.70</td>\n",
              "      <td>1970-08-15</td>\n",
              "    </tr>\n",
              "    <tr>\n",
              "      <th>4</th>\n",
              "      <td>4</td>\n",
              "      <td>이종범96해SS</td>\n",
              "      <td>113</td>\n",
              "      <td>525</td>\n",
              "      <td>449</td>\n",
              "      <td>94</td>\n",
              "      <td>149</td>\n",
              "      <td>28</td>\n",
              "      <td>1</td>\n",
              "      <td>25</td>\n",
              "      <td>254</td>\n",
              "      <td>76</td>\n",
              "      <td>57</td>\n",
              "      <td>12</td>\n",
              "      <td>67</td>\n",
              "      <td>7</td>\n",
              "      <td>15</td>\n",
              "      <td>39</td>\n",
              "      <td>4</td>\n",
              "      <td>0</td>\n",
              "      <td>2</td>\n",
              "      <td>0.332</td>\n",
              "      <td>0.425</td>\n",
              "      <td>0.566</td>\n",
              "      <td>0.991</td>\n",
              "      <td>0.440</td>\n",
              "      <td>184.6</td>\n",
              "      <td>9.52</td>\n",
              "      <td>1970-08-15</td>\n",
              "    </tr>\n",
              "  </tbody>\n",
              "</table>\n",
              "</div>"
            ],
            "text/plain": [
              "   Unnamed: 0        선수    G   타석   타수  ...    OPS   wOBA   wRC+   WAR+          생일\n",
              "0           0  이종범94해SS  124  561  499  ...  1.033  0.462  198.3  11.77  1970-08-15\n",
              "1           1  테임즈15N1B  142  595  472  ...  1.288  0.530  222.3  10.71  1986-11-10\n",
              "2           2  심정수03현RF  133  601  460  ...  1.197  0.498  210.7  10.19  1975-05-05\n",
              "3           3  이종범97해SS  125  577  484  ...  1.009  0.431  173.2   9.70  1970-08-15\n",
              "4           4  이종범96해SS  113  525  449  ...  0.991  0.440  184.6   9.52  1970-08-15\n",
              "\n",
              "[5 rows x 29 columns]"
            ]
          },
          "metadata": {
            "tags": []
          },
          "execution_count": 4
        }
      ]
    },
    {
      "cell_type": "code",
      "metadata": {
        "id": "pOi7nNfPhpcw",
        "colab_type": "code",
        "colab": {}
      },
      "source": [
        "# 이름 분리 해서, '이름' column 추가\n",
        "result['이름'] = result['선수'].str.findall(\"^[ㄱ-힣]+\").apply(lambda x: x[0])\n"
      ],
      "execution_count": 0,
      "outputs": []
    },
    {
      "cell_type": "code",
      "metadata": {
        "id": "saPO2U6bh5Ah",
        "colab_type": "code",
        "colab": {}
      },
      "source": [
        "# 기존 '선수' column 에 있던 이름 정보 제거\n",
        "\n",
        "result['선수'] = result.apply(lambda x:x['선수'].replace(x['이름'],''),axis=1)"
      ],
      "execution_count": 0,
      "outputs": []
    },
    {
      "cell_type": "code",
      "metadata": {
        "id": "PBSANHJdlBgA",
        "colab_type": "code",
        "colab": {
          "base_uri": "https://localhost:8080/",
          "height": 241
        },
        "outputId": "75b09bef-0034-45d6-9eee-61a0951bd761"
      },
      "source": [
        "result['선수']"
      ],
      "execution_count": 7,
      "outputs": [
        {
          "output_type": "execute_result",
          "data": {
            "text/plain": [
              "0       94해SS\n",
              "1       15N1B\n",
              "2       03현RF\n",
              "3       97해SS\n",
              "4       96해SS\n",
              "        ...  \n",
              "8552    09SRF\n",
              "8553     99삼C\n",
              "8554     18롯C\n",
              "8555    07KRF\n",
              "8556    86청1B\n",
              "Name: 선수, Length: 8557, dtype: object"
            ]
          },
          "metadata": {
            "tags": []
          },
          "execution_count": 7
        }
      ]
    },
    {
      "cell_type": "code",
      "metadata": {
        "id": "gB6mNfmNsFpB",
        "colab_type": "code",
        "colab": {}
      },
      "source": [
        "# '시즌' column 생성\n",
        "result['시즌'] = result['선수'].apply(lambda x: x[:2])\n",
        "\n",
        "# 기존 '선수' column 에 있던 시즌 정보 제거\n",
        "result['선수'] = result.apply(lambda x: x['선수'].replace(x['시즌'],''), axis=1)\n"
      ],
      "execution_count": 0,
      "outputs": []
    },
    {
      "cell_type": "code",
      "metadata": {
        "id": "xRVo2n7dsKX8",
        "colab_type": "code",
        "colab": {
          "base_uri": "https://localhost:8080/",
          "height": 241
        },
        "outputId": "47de4c25-362a-4a90-894c-428f9f26413d"
      },
      "source": [
        "result['시즌']"
      ],
      "execution_count": 9,
      "outputs": [
        {
          "output_type": "execute_result",
          "data": {
            "text/plain": [
              "0       94\n",
              "1       15\n",
              "2       03\n",
              "3       97\n",
              "4       96\n",
              "        ..\n",
              "8552    09\n",
              "8553    99\n",
              "8554    18\n",
              "8555    07\n",
              "8556    86\n",
              "Name: 시즌, Length: 8557, dtype: object"
            ]
          },
          "metadata": {
            "tags": []
          },
          "execution_count": 9
        }
      ]
    },
    {
      "cell_type": "code",
      "metadata": {
        "id": "cqK6IgspsMsA",
        "colab_type": "code",
        "colab": {}
      },
      "source": [
        "# 년도를 4자리 숫자로 바꾸어주기 ex) 98 -&gt; 1998, 15 -&gt; 2015\n",
        "result['시즌'] = result['시즌'].apply(lambda x: int(\"20\"+ x) if int(x) <= 30 else int(\"19\"+x))"
      ],
      "execution_count": 0,
      "outputs": []
    },
    {
      "cell_type": "code",
      "metadata": {
        "id": "oODqCnp4sX8h",
        "colab_type": "code",
        "colab": {}
      },
      "source": [
        ""
      ],
      "execution_count": 0,
      "outputs": []
    },
    {
      "cell_type": "code",
      "metadata": {
        "id": "XD0tqnGzsb5y",
        "colab_type": "code",
        "colab": {
          "base_uri": "https://localhost:8080/",
          "height": 241
        },
        "outputId": "88395e95-160c-4f4a-a8be-fc227e38bc51"
      },
      "source": [
        "result['시즌']"
      ],
      "execution_count": 11,
      "outputs": [
        {
          "output_type": "execute_result",
          "data": {
            "text/plain": [
              "0       1994\n",
              "1       2015\n",
              "2       2003\n",
              "3       1997\n",
              "4       1996\n",
              "        ... \n",
              "8552    2009\n",
              "8553    1999\n",
              "8554    2018\n",
              "8555    2007\n",
              "8556    1986\n",
              "Name: 시즌, Length: 8557, dtype: int64"
            ]
          },
          "metadata": {
            "tags": []
          },
          "execution_count": 11
        }
      ]
    },
    {
      "cell_type": "code",
      "metadata": {
        "id": "MKWulYS7uTlQ",
        "colab_type": "code",
        "colab": {
          "base_uri": "https://localhost:8080/",
          "height": 55
        },
        "outputId": "417e91f8-2896-49ad-ebe9-923f521d4864"
      },
      "source": [
        "result.loc[(result.이름 =='조홍석')&(result.시즌 ==2015),'생일'] = '1990-02-23'\n",
        "\n",
        "result[(result.이름 =='조홍석')&(result.시즌 ==2015)].생일\n"
      ],
      "execution_count": 12,
      "outputs": [
        {
          "output_type": "execute_result",
          "data": {
            "text/plain": [
              "6466    1990-02-23\n",
              "Name: 생일, dtype: object"
            ]
          },
          "metadata": {
            "tags": []
          },
          "execution_count": 12
        }
      ]
    },
    {
      "cell_type": "code",
      "metadata": {
        "id": "rOJmkAG1uyUX",
        "colab_type": "code",
        "colab": {
          "base_uri": "https://localhost:8080/",
          "height": 413
        },
        "outputId": "2e38fa9c-d16a-441c-89d8-641fa1283cd4"
      },
      "source": [
        "result.head()"
      ],
      "execution_count": 13,
      "outputs": [
        {
          "output_type": "execute_result",
          "data": {
            "text/html": [
              "<div>\n",
              "<style scoped>\n",
              "    .dataframe tbody tr th:only-of-type {\n",
              "        vertical-align: middle;\n",
              "    }\n",
              "\n",
              "    .dataframe tbody tr th {\n",
              "        vertical-align: top;\n",
              "    }\n",
              "\n",
              "    .dataframe thead th {\n",
              "        text-align: right;\n",
              "    }\n",
              "</style>\n",
              "<table border=\"1\" class=\"dataframe\">\n",
              "  <thead>\n",
              "    <tr style=\"text-align: right;\">\n",
              "      <th></th>\n",
              "      <th>Unnamed: 0</th>\n",
              "      <th>선수</th>\n",
              "      <th>G</th>\n",
              "      <th>타석</th>\n",
              "      <th>타수</th>\n",
              "      <th>득점</th>\n",
              "      <th>안타</th>\n",
              "      <th>2타</th>\n",
              "      <th>3타</th>\n",
              "      <th>홈런</th>\n",
              "      <th>루타</th>\n",
              "      <th>타점</th>\n",
              "      <th>도루</th>\n",
              "      <th>도실</th>\n",
              "      <th>볼넷</th>\n",
              "      <th>사구</th>\n",
              "      <th>고4</th>\n",
              "      <th>삼진</th>\n",
              "      <th>병살</th>\n",
              "      <th>희타</th>\n",
              "      <th>희비</th>\n",
              "      <th>타율</th>\n",
              "      <th>출루</th>\n",
              "      <th>장타</th>\n",
              "      <th>OPS</th>\n",
              "      <th>wOBA</th>\n",
              "      <th>wRC+</th>\n",
              "      <th>WAR+</th>\n",
              "      <th>생일</th>\n",
              "      <th>이름</th>\n",
              "      <th>시즌</th>\n",
              "    </tr>\n",
              "  </thead>\n",
              "  <tbody>\n",
              "    <tr>\n",
              "      <th>0</th>\n",
              "      <td>0</td>\n",
              "      <td>해SS</td>\n",
              "      <td>124</td>\n",
              "      <td>561</td>\n",
              "      <td>499</td>\n",
              "      <td>113</td>\n",
              "      <td>196</td>\n",
              "      <td>27</td>\n",
              "      <td>5</td>\n",
              "      <td>19</td>\n",
              "      <td>290</td>\n",
              "      <td>77</td>\n",
              "      <td>84</td>\n",
              "      <td>15</td>\n",
              "      <td>51</td>\n",
              "      <td>6</td>\n",
              "      <td>14</td>\n",
              "      <td>31</td>\n",
              "      <td>2</td>\n",
              "      <td>1</td>\n",
              "      <td>4</td>\n",
              "      <td>0.393</td>\n",
              "      <td>0.452</td>\n",
              "      <td>0.581</td>\n",
              "      <td>1.033</td>\n",
              "      <td>0.462</td>\n",
              "      <td>198.3</td>\n",
              "      <td>11.77</td>\n",
              "      <td>1970-08-15</td>\n",
              "      <td>이종범</td>\n",
              "      <td>1994</td>\n",
              "    </tr>\n",
              "    <tr>\n",
              "      <th>1</th>\n",
              "      <td>1</td>\n",
              "      <td>N1B</td>\n",
              "      <td>142</td>\n",
              "      <td>595</td>\n",
              "      <td>472</td>\n",
              "      <td>130</td>\n",
              "      <td>180</td>\n",
              "      <td>42</td>\n",
              "      <td>5</td>\n",
              "      <td>47</td>\n",
              "      <td>373</td>\n",
              "      <td>140</td>\n",
              "      <td>40</td>\n",
              "      <td>8</td>\n",
              "      <td>103</td>\n",
              "      <td>13</td>\n",
              "      <td>11</td>\n",
              "      <td>91</td>\n",
              "      <td>7</td>\n",
              "      <td>0</td>\n",
              "      <td>7</td>\n",
              "      <td>0.381</td>\n",
              "      <td>0.498</td>\n",
              "      <td>0.790</td>\n",
              "      <td>1.288</td>\n",
              "      <td>0.530</td>\n",
              "      <td>222.3</td>\n",
              "      <td>10.71</td>\n",
              "      <td>1986-11-10</td>\n",
              "      <td>테임즈</td>\n",
              "      <td>2015</td>\n",
              "    </tr>\n",
              "    <tr>\n",
              "      <th>2</th>\n",
              "      <td>2</td>\n",
              "      <td>현RF</td>\n",
              "      <td>133</td>\n",
              "      <td>601</td>\n",
              "      <td>460</td>\n",
              "      <td>110</td>\n",
              "      <td>154</td>\n",
              "      <td>16</td>\n",
              "      <td>1</td>\n",
              "      <td>53</td>\n",
              "      <td>331</td>\n",
              "      <td>142</td>\n",
              "      <td>6</td>\n",
              "      <td>2</td>\n",
              "      <td>124</td>\n",
              "      <td>9</td>\n",
              "      <td>17</td>\n",
              "      <td>63</td>\n",
              "      <td>14</td>\n",
              "      <td>0</td>\n",
              "      <td>8</td>\n",
              "      <td>0.335</td>\n",
              "      <td>0.478</td>\n",
              "      <td>0.720</td>\n",
              "      <td>1.197</td>\n",
              "      <td>0.498</td>\n",
              "      <td>210.7</td>\n",
              "      <td>10.19</td>\n",
              "      <td>1975-05-05</td>\n",
              "      <td>심정수</td>\n",
              "      <td>2003</td>\n",
              "    </tr>\n",
              "    <tr>\n",
              "      <th>3</th>\n",
              "      <td>3</td>\n",
              "      <td>해SS</td>\n",
              "      <td>125</td>\n",
              "      <td>577</td>\n",
              "      <td>484</td>\n",
              "      <td>112</td>\n",
              "      <td>157</td>\n",
              "      <td>28</td>\n",
              "      <td>3</td>\n",
              "      <td>30</td>\n",
              "      <td>281</td>\n",
              "      <td>74</td>\n",
              "      <td>64</td>\n",
              "      <td>15</td>\n",
              "      <td>87</td>\n",
              "      <td>3</td>\n",
              "      <td>30</td>\n",
              "      <td>49</td>\n",
              "      <td>9</td>\n",
              "      <td>0</td>\n",
              "      <td>3</td>\n",
              "      <td>0.324</td>\n",
              "      <td>0.428</td>\n",
              "      <td>0.581</td>\n",
              "      <td>1.009</td>\n",
              "      <td>0.431</td>\n",
              "      <td>173.2</td>\n",
              "      <td>9.70</td>\n",
              "      <td>1970-08-15</td>\n",
              "      <td>이종범</td>\n",
              "      <td>1997</td>\n",
              "    </tr>\n",
              "    <tr>\n",
              "      <th>4</th>\n",
              "      <td>4</td>\n",
              "      <td>해SS</td>\n",
              "      <td>113</td>\n",
              "      <td>525</td>\n",
              "      <td>449</td>\n",
              "      <td>94</td>\n",
              "      <td>149</td>\n",
              "      <td>28</td>\n",
              "      <td>1</td>\n",
              "      <td>25</td>\n",
              "      <td>254</td>\n",
              "      <td>76</td>\n",
              "      <td>57</td>\n",
              "      <td>12</td>\n",
              "      <td>67</td>\n",
              "      <td>7</td>\n",
              "      <td>15</td>\n",
              "      <td>39</td>\n",
              "      <td>4</td>\n",
              "      <td>0</td>\n",
              "      <td>2</td>\n",
              "      <td>0.332</td>\n",
              "      <td>0.425</td>\n",
              "      <td>0.566</td>\n",
              "      <td>0.991</td>\n",
              "      <td>0.440</td>\n",
              "      <td>184.6</td>\n",
              "      <td>9.52</td>\n",
              "      <td>1970-08-15</td>\n",
              "      <td>이종범</td>\n",
              "      <td>1996</td>\n",
              "    </tr>\n",
              "  </tbody>\n",
              "</table>\n",
              "</div>"
            ],
            "text/plain": [
              "   Unnamed: 0   선수    G   타석   타수  ...   wRC+   WAR+          생일   이름    시즌\n",
              "0           0  해SS  124  561  499  ...  198.3  11.77  1970-08-15  이종범  1994\n",
              "1           1  N1B  142  595  472  ...  222.3  10.71  1986-11-10  테임즈  2015\n",
              "2           2  현RF  133  601  460  ...  210.7  10.19  1975-05-05  심정수  2003\n",
              "3           3  해SS  125  577  484  ...  173.2   9.70  1970-08-15  이종범  1997\n",
              "4           4  해SS  113  525  449  ...  184.6   9.52  1970-08-15  이종범  1996\n",
              "\n",
              "[5 rows x 31 columns]"
            ]
          },
          "metadata": {
            "tags": []
          },
          "execution_count": 13
        }
      ]
    },
    {
      "cell_type": "code",
      "metadata": {
        "id": "MJSh6KJju0vs",
        "colab_type": "code",
        "colab": {}
      },
      "source": [
        "# 포지션\n",
        "position = ['1B', '2B', '3B', 'SS', 'C', 'RF', 'LF', 'CF', 'DH'] "
      ],
      "execution_count": 0,
      "outputs": []
    },
    {
      "cell_type": "code",
      "metadata": {
        "id": "2KyE3FPTvC0V",
        "colab_type": "code",
        "colab": {}
      },
      "source": [
        "# 포지션\n",
        "position = ['1B', '2B', '3B', 'SS', 'C', 'RF', 'LF', 'CF', 'DH'] \n",
        "\n",
        "# 포지션 여부 확인\n",
        "result['포지션여부'] = result['선수'].apply(lambda x : (np.isin(x[-2:], position) or np.isin(x[-1:], position))) \n",
        "\n",
        "# 포지션 분리\n",
        "result['포지션'] = result['선수'].apply(lambda x: x[-2:] if x[-2:] in position else x[-1:])\n",
        "\n",
        "#포지션이 기록 되어 있지 않으면, nan값 넣기 \n",
        "result.loc[result['포지션여부']==False, '포지션'] = np.nan"
      ],
      "execution_count": 0,
      "outputs": []
    },
    {
      "cell_type": "code",
      "metadata": {
        "id": "Zxu7V5_rwJz9",
        "colab_type": "code",
        "colab": {
          "base_uri": "https://localhost:8080/",
          "height": 465
        },
        "outputId": "f092c61f-92f3-4393-af5e-53d7224b5f7a"
      },
      "source": [
        "result.head()"
      ],
      "execution_count": 20,
      "outputs": [
        {
          "output_type": "execute_result",
          "data": {
            "text/html": [
              "<div>\n",
              "<style scoped>\n",
              "    .dataframe tbody tr th:only-of-type {\n",
              "        vertical-align: middle;\n",
              "    }\n",
              "\n",
              "    .dataframe tbody tr th {\n",
              "        vertical-align: top;\n",
              "    }\n",
              "\n",
              "    .dataframe thead th {\n",
              "        text-align: right;\n",
              "    }\n",
              "</style>\n",
              "<table border=\"1\" class=\"dataframe\">\n",
              "  <thead>\n",
              "    <tr style=\"text-align: right;\">\n",
              "      <th></th>\n",
              "      <th>Unnamed: 0</th>\n",
              "      <th>선수</th>\n",
              "      <th>G</th>\n",
              "      <th>타석</th>\n",
              "      <th>타수</th>\n",
              "      <th>득점</th>\n",
              "      <th>안타</th>\n",
              "      <th>2타</th>\n",
              "      <th>3타</th>\n",
              "      <th>홈런</th>\n",
              "      <th>루타</th>\n",
              "      <th>타점</th>\n",
              "      <th>도루</th>\n",
              "      <th>도실</th>\n",
              "      <th>볼넷</th>\n",
              "      <th>사구</th>\n",
              "      <th>고4</th>\n",
              "      <th>삼진</th>\n",
              "      <th>병살</th>\n",
              "      <th>희타</th>\n",
              "      <th>희비</th>\n",
              "      <th>타율</th>\n",
              "      <th>출루</th>\n",
              "      <th>장타</th>\n",
              "      <th>OPS</th>\n",
              "      <th>wOBA</th>\n",
              "      <th>wRC+</th>\n",
              "      <th>WAR+</th>\n",
              "      <th>생일</th>\n",
              "      <th>이름</th>\n",
              "      <th>시즌</th>\n",
              "      <th>포지션여부</th>\n",
              "      <th>포지션</th>\n",
              "    </tr>\n",
              "  </thead>\n",
              "  <tbody>\n",
              "    <tr>\n",
              "      <th>0</th>\n",
              "      <td>0</td>\n",
              "      <td>해SS</td>\n",
              "      <td>124</td>\n",
              "      <td>561</td>\n",
              "      <td>499</td>\n",
              "      <td>113</td>\n",
              "      <td>196</td>\n",
              "      <td>27</td>\n",
              "      <td>5</td>\n",
              "      <td>19</td>\n",
              "      <td>290</td>\n",
              "      <td>77</td>\n",
              "      <td>84</td>\n",
              "      <td>15</td>\n",
              "      <td>51</td>\n",
              "      <td>6</td>\n",
              "      <td>14</td>\n",
              "      <td>31</td>\n",
              "      <td>2</td>\n",
              "      <td>1</td>\n",
              "      <td>4</td>\n",
              "      <td>0.393</td>\n",
              "      <td>0.452</td>\n",
              "      <td>0.581</td>\n",
              "      <td>1.033</td>\n",
              "      <td>0.462</td>\n",
              "      <td>198.3</td>\n",
              "      <td>11.77</td>\n",
              "      <td>1970-08-15</td>\n",
              "      <td>이종범</td>\n",
              "      <td>1994</td>\n",
              "      <td>True</td>\n",
              "      <td>SS</td>\n",
              "    </tr>\n",
              "    <tr>\n",
              "      <th>1</th>\n",
              "      <td>1</td>\n",
              "      <td>N1B</td>\n",
              "      <td>142</td>\n",
              "      <td>595</td>\n",
              "      <td>472</td>\n",
              "      <td>130</td>\n",
              "      <td>180</td>\n",
              "      <td>42</td>\n",
              "      <td>5</td>\n",
              "      <td>47</td>\n",
              "      <td>373</td>\n",
              "      <td>140</td>\n",
              "      <td>40</td>\n",
              "      <td>8</td>\n",
              "      <td>103</td>\n",
              "      <td>13</td>\n",
              "      <td>11</td>\n",
              "      <td>91</td>\n",
              "      <td>7</td>\n",
              "      <td>0</td>\n",
              "      <td>7</td>\n",
              "      <td>0.381</td>\n",
              "      <td>0.498</td>\n",
              "      <td>0.790</td>\n",
              "      <td>1.288</td>\n",
              "      <td>0.530</td>\n",
              "      <td>222.3</td>\n",
              "      <td>10.71</td>\n",
              "      <td>1986-11-10</td>\n",
              "      <td>테임즈</td>\n",
              "      <td>2015</td>\n",
              "      <td>True</td>\n",
              "      <td>1B</td>\n",
              "    </tr>\n",
              "    <tr>\n",
              "      <th>2</th>\n",
              "      <td>2</td>\n",
              "      <td>현RF</td>\n",
              "      <td>133</td>\n",
              "      <td>601</td>\n",
              "      <td>460</td>\n",
              "      <td>110</td>\n",
              "      <td>154</td>\n",
              "      <td>16</td>\n",
              "      <td>1</td>\n",
              "      <td>53</td>\n",
              "      <td>331</td>\n",
              "      <td>142</td>\n",
              "      <td>6</td>\n",
              "      <td>2</td>\n",
              "      <td>124</td>\n",
              "      <td>9</td>\n",
              "      <td>17</td>\n",
              "      <td>63</td>\n",
              "      <td>14</td>\n",
              "      <td>0</td>\n",
              "      <td>8</td>\n",
              "      <td>0.335</td>\n",
              "      <td>0.478</td>\n",
              "      <td>0.720</td>\n",
              "      <td>1.197</td>\n",
              "      <td>0.498</td>\n",
              "      <td>210.7</td>\n",
              "      <td>10.19</td>\n",
              "      <td>1975-05-05</td>\n",
              "      <td>심정수</td>\n",
              "      <td>2003</td>\n",
              "      <td>True</td>\n",
              "      <td>RF</td>\n",
              "    </tr>\n",
              "    <tr>\n",
              "      <th>3</th>\n",
              "      <td>3</td>\n",
              "      <td>해SS</td>\n",
              "      <td>125</td>\n",
              "      <td>577</td>\n",
              "      <td>484</td>\n",
              "      <td>112</td>\n",
              "      <td>157</td>\n",
              "      <td>28</td>\n",
              "      <td>3</td>\n",
              "      <td>30</td>\n",
              "      <td>281</td>\n",
              "      <td>74</td>\n",
              "      <td>64</td>\n",
              "      <td>15</td>\n",
              "      <td>87</td>\n",
              "      <td>3</td>\n",
              "      <td>30</td>\n",
              "      <td>49</td>\n",
              "      <td>9</td>\n",
              "      <td>0</td>\n",
              "      <td>3</td>\n",
              "      <td>0.324</td>\n",
              "      <td>0.428</td>\n",
              "      <td>0.581</td>\n",
              "      <td>1.009</td>\n",
              "      <td>0.431</td>\n",
              "      <td>173.2</td>\n",
              "      <td>9.70</td>\n",
              "      <td>1970-08-15</td>\n",
              "      <td>이종범</td>\n",
              "      <td>1997</td>\n",
              "      <td>True</td>\n",
              "      <td>SS</td>\n",
              "    </tr>\n",
              "    <tr>\n",
              "      <th>4</th>\n",
              "      <td>4</td>\n",
              "      <td>해SS</td>\n",
              "      <td>113</td>\n",
              "      <td>525</td>\n",
              "      <td>449</td>\n",
              "      <td>94</td>\n",
              "      <td>149</td>\n",
              "      <td>28</td>\n",
              "      <td>1</td>\n",
              "      <td>25</td>\n",
              "      <td>254</td>\n",
              "      <td>76</td>\n",
              "      <td>57</td>\n",
              "      <td>12</td>\n",
              "      <td>67</td>\n",
              "      <td>7</td>\n",
              "      <td>15</td>\n",
              "      <td>39</td>\n",
              "      <td>4</td>\n",
              "      <td>0</td>\n",
              "      <td>2</td>\n",
              "      <td>0.332</td>\n",
              "      <td>0.425</td>\n",
              "      <td>0.566</td>\n",
              "      <td>0.991</td>\n",
              "      <td>0.440</td>\n",
              "      <td>184.6</td>\n",
              "      <td>9.52</td>\n",
              "      <td>1970-08-15</td>\n",
              "      <td>이종범</td>\n",
              "      <td>1996</td>\n",
              "      <td>True</td>\n",
              "      <td>SS</td>\n",
              "    </tr>\n",
              "  </tbody>\n",
              "</table>\n",
              "</div>"
            ],
            "text/plain": [
              "   Unnamed: 0   선수    G   타석   타수   득점  ...   WAR+          생일   이름    시즌  포지션여부  포지션\n",
              "0           0  해SS  124  561  499  113  ...  11.77  1970-08-15  이종범  1994   True   SS\n",
              "1           1  N1B  142  595  472  130  ...  10.71  1986-11-10  테임즈  2015   True   1B\n",
              "2           2  현RF  133  601  460  110  ...  10.19  1975-05-05  심정수  2003   True   RF\n",
              "3           3  해SS  125  577  484  112  ...   9.70  1970-08-15  이종범  1997   True   SS\n",
              "4           4  해SS  113  525  449   94  ...   9.52  1970-08-15  이종범  1996   True   SS\n",
              "\n",
              "[5 rows x 33 columns]"
            ]
          },
          "metadata": {
            "tags": []
          },
          "execution_count": 20
        }
      ]
    },
    {
      "cell_type": "code",
      "metadata": {
        "id": "vI64_i9swMK9",
        "colab_type": "code",
        "colab": {
          "base_uri": "https://localhost:8080/",
          "height": 241
        },
        "outputId": "77af5751-a8a0-44c1-9a6a-2f75391d4c14"
      },
      "source": [
        "result['선수']"
      ],
      "execution_count": 22,
      "outputs": [
        {
          "output_type": "execute_result",
          "data": {
            "text/plain": [
              "0       해SS\n",
              "1       N1B\n",
              "2       현RF\n",
              "3       해SS\n",
              "4       해SS\n",
              "       ... \n",
              "8552    SRF\n",
              "8553     삼C\n",
              "8554     롯C\n",
              "8555    KRF\n",
              "8556    청1B\n",
              "Name: 선수, Length: 8557, dtype: object"
            ]
          },
          "metadata": {
            "tags": []
          },
          "execution_count": 22
        }
      ]
    },
    {
      "cell_type": "code",
      "metadata": {
        "id": "kUFJwt1LwkXh",
        "colab_type": "code",
        "colab": {}
      },
      "source": [
        "# 팀 & 나이 column 생성\n",
        "result['팀'] = result.apply(lambda x: x['선수'].replace(x['포지션'],'') if type(x['포지션'])==str else x['선수'], axis=1)\n",
        "result['나이'] = result.apply(lambda x: x['시즌'] - int(x['생일'][:4]) + 1, axis=1)"
      ],
      "execution_count": 0,
      "outputs": []
    },
    {
      "cell_type": "code",
      "metadata": {
        "id": "G-8sDVQKxZL7",
        "colab_type": "code",
        "colab": {
          "base_uri": "https://localhost:8080/",
          "height": 241
        },
        "outputId": "d267cc47-8266-4594-b9c5-361a752a530c"
      },
      "source": [
        "result['나이']"
      ],
      "execution_count": 26,
      "outputs": [
        {
          "output_type": "execute_result",
          "data": {
            "text/plain": [
              "0       25\n",
              "1       30\n",
              "2       29\n",
              "3       28\n",
              "4       27\n",
              "        ..\n",
              "8552    29\n",
              "8553    28\n",
              "8554    21\n",
              "8555    38\n",
              "8556    36\n",
              "Name: 나이, Length: 8557, dtype: int64"
            ]
          },
          "metadata": {
            "tags": []
          },
          "execution_count": 26
        }
      ]
    },
    {
      "cell_type": "code",
      "metadata": {
        "id": "mqcUBohNxaR8",
        "colab_type": "code",
        "colab": {}
      },
      "source": [
        "# 선수별 고유 아이디 부여\n",
        "info = result[['이름', '생일']].apply(lambda x: tuple(x), axis=1)\n",
        "\n",
        "player_id = {}\n",
        "for i,j in enumerate(info.unique()):\n",
        "    player_id[j] = i\n",
        "    \n",
        "result['ID'] = result.apply(lambda x: player_id[tuple([x['이름'], x['생일']])], axis=1)"
      ],
      "execution_count": 0,
      "outputs": []
    },
    {
      "cell_type": "code",
      "metadata": {
        "id": "XJdaJDDQxhii",
        "colab_type": "code",
        "colab": {}
      },
      "source": [
        "result\n",
        "\n",
        "# numeric data로 변환\n",
        "float_columns = result.iloc[:,2:27].columns\n",
        "result[float_columns] = result[float_columns].astype(float).fillna(0)"
      ],
      "execution_count": 0,
      "outputs": []
    },
    {
      "cell_type": "code",
      "metadata": {
        "id": "Nsf1CgsuyDI4",
        "colab_type": "code",
        "colab": {}
      },
      "source": [
        "# 필요한 features 선택\n",
        "cols = ['ID', '이름', '생일', '팀', '시즌', '포지션', '나이'] + list(float_columns)\n",
        "result = result[cols]"
      ],
      "execution_count": 0,
      "outputs": []
    },
    {
      "cell_type": "code",
      "metadata": {
        "id": "O7mtl6zzyRba",
        "colab_type": "code",
        "colab": {
          "base_uri": "https://localhost:8080/",
          "height": 36
        },
        "outputId": "29b0815f-574c-4d97-bf04-22de39480d02"
      },
      "source": [
        "result.shape"
      ],
      "execution_count": 34,
      "outputs": [
        {
          "output_type": "execute_result",
          "data": {
            "text/plain": [
              "(8557, 32)"
            ]
          },
          "metadata": {
            "tags": []
          },
          "execution_count": 34
        }
      ]
    },
    {
      "cell_type": "code",
      "metadata": {
        "id": "iCOz54Vfybrp",
        "colab_type": "code",
        "colab": {}
      },
      "source": [
        ""
      ],
      "execution_count": 0,
      "outputs": []
    }
  ]
}